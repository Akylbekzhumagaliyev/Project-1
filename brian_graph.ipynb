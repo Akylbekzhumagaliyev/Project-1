{
 "cells": [
  {
   "cell_type": "code",
   "execution_count": 43,
   "metadata": {},
   "outputs": [
    {
     "name": "stdout",
     "output_type": "stream",
     "text": [
      "Using matplotlib backend: Qt5Agg\n"
     ]
    }
   ],
   "source": [
    "%notebook inline\n",
    "%matplotlib"
   ]
  },
  {
   "cell_type": "code",
   "execution_count": 45,
   "metadata": {},
   "outputs": [],
   "source": [
    "import pandas as pd\n",
    "import matplotlib.pyplot as plt\n",
    "import numpy as np"
   ]
  },
  {
   "cell_type": "code",
   "execution_count": 46,
   "metadata": {},
   "outputs": [],
   "source": [
    "df = pd.read_csv('./data_files/final.csv')"
   ]
  },
  {
   "cell_type": "code",
   "execution_count": 47,
   "metadata": {},
   "outputs": [
    {
     "data": {
      "text/plain": [
       "Index(['Released', 'Title', 'Source', 'Production Budget',\n",
       "       'Opening Weekend Revenue', 'Domestic Box Office',\n",
       "       'Infl. Adj. Dom. Box Office', 'International Box Office',\n",
       "       'Worldwide Box Office', 'ratings', 'awards', 'rated', 'runtime',\n",
       "       'genere', 'metascore', 'imdbRating', 'imdbVotes', 'imdbID',\n",
       "       'nominations', 'trailer ids', 'max viewcount',\n",
       "       'Infl. Adj. Production Budget', 'Infl. Adj. International Box Office',\n",
       "       'Infl. Adj. Worldwide Box Office', 'Infl. Adj. Opening Weekend Revenue',\n",
       "       'Genre', 'release_year', 'release_month'],\n",
       "      dtype='object')"
      ]
     },
     "execution_count": 47,
     "metadata": {},
     "output_type": "execute_result"
    }
   ],
   "source": [
    "df.columns"
   ]
  },
  {
   "cell_type": "code",
   "execution_count": 48,
   "metadata": {},
   "outputs": [],
   "source": [
    "rev_by_mon = df.groupby('release_month')"
   ]
  },
  {
   "cell_type": "code",
   "execution_count": 49,
   "metadata": {},
   "outputs": [],
   "source": [
    "ticks = ['Jan', 'Feb', 'Mar', 'Apr', 'May', 'Jun', 'Jul', 'Aug', 'Sep', 'Oct', 'Nov', 'Dec']\n",
    "data = rev_by_mon['Infl. Adj. Opening Weekend Revenue'].mean().sort_index() / 1000000\n",
    "rev = rev_by_mon['Infl. Adj. Worldwide Box Office'].mean().sort_index() / 1000000\n",
    "\n",
    "fig = plt.figure()\n",
    "ax1 = fig.add_subplot(111)\n",
    "ax1.bar(data.index, data)\n",
    "\n",
    "plt.title('Opening Weekend Box office Revenue by Month')\n",
    "plt.xticks(data.index, labels=ticks)\n",
    "plt.xlabel('Month Released')\n",
    "plt.ylabel('Box Office Revenue x Millions')\n",
    "plt.show()"
   ]
  },
  {
   "cell_type": "code",
   "execution_count": null,
   "metadata": {},
   "outputs": [],
   "source": []
  },
  {
   "cell_type": "code",
   "execution_count": 50,
   "metadata": {},
   "outputs": [
    {
     "data": {
      "text/plain": [
       "Index(['Released', 'Title', 'Source', 'Production Budget',\n",
       "       'Opening Weekend Revenue', 'Domestic Box Office',\n",
       "       'Infl. Adj. Dom. Box Office', 'International Box Office',\n",
       "       'Worldwide Box Office', 'ratings', 'awards', 'rated', 'runtime',\n",
       "       'genere', 'metascore', 'imdbRating', 'imdbVotes', 'imdbID',\n",
       "       'nominations', 'trailer ids', 'max viewcount',\n",
       "       'Infl. Adj. Production Budget', 'Infl. Adj. International Box Office',\n",
       "       'Infl. Adj. Worldwide Box Office', 'Infl. Adj. Opening Weekend Revenue',\n",
       "       'Genre', 'release_year', 'release_month'],\n",
       "      dtype='object')"
      ]
     },
     "execution_count": 50,
     "metadata": {},
     "output_type": "execute_result"
    }
   ],
   "source": [
    "df.columns"
   ]
  },
  {
   "cell_type": "code",
   "execution_count": 51,
   "metadata": {},
   "outputs": [],
   "source": [
    "ratings_df = df[['metascore', 'imdbRating', 'imdbVotes','Infl. Adj. Worldwide Box Office']]"
   ]
  },
  {
   "cell_type": "code",
   "execution_count": 52,
   "metadata": {},
   "outputs": [],
   "source": [
    "x_ratings = ratings_df['Infl. Adj. Worldwide Box Office'] / 1000000\n",
    "y_meta = ratings_df['metascore']\n",
    "y_imdb = ratings_df['imdbRating'] * 10\n",
    "\n",
    "fig = plt.figure(figsize=(10,6))\n",
    "ax1 = fig.add_subplot(111)\n",
    "\n",
    "ax1.scatter(x_ratings, y_meta, s=15, c='b', alpha=.7, marker=\"^\", label='Metascore')\n",
    "ax1.scatter(x_ratings, y_imdb, s=15, c='r', alpha=.7, marker=\"*\", label='IMDB Rating')\n",
    "plt.legend(loc='lower right');\n",
    "plt.ylabel('Rating')\n",
    "plt.xlabel('Infl. Adj. Worldwide Box Office')\n",
    "plt.title('Rating Score vs Box Office Sales')\n",
    "plt.show()"
   ]
  },
  {
   "cell_type": "code",
   "execution_count": null,
   "metadata": {},
   "outputs": [],
   "source": []
  }
 ],
 "metadata": {
  "celltoolbar": "Slideshow",
  "kernelspec": {
   "display_name": "Python 3.7.4 64-bit ('blper': virtualenv)",
   "language": "python",
   "name": "python37464bitblpervirtualenvd6446c7789ce49e6817d1aeff4673e37"
  },
  "language_info": {
   "codemirror_mode": {
    "name": "ipython",
    "version": 3
   },
   "file_extension": ".py",
   "mimetype": "text/x-python",
   "name": "python",
   "nbconvert_exporter": "python",
   "pygments_lexer": "ipython3",
   "version": "3.7.4"
  }
 },
 "nbformat": 4,
 "nbformat_minor": 2
}
