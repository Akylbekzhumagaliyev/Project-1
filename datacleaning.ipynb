{
 "cells": [
  {
   "cell_type": "code",
   "execution_count": 2,
   "metadata": {},
   "outputs": [],
   "source": [
    "# Dependencies\n",
    "import requests\n",
    "import pandas as pd\n",
    "import numpy as np\n",
    "#from config import api_key\n",
    "\n",
    "# read in csv file for title lis\n",
    "f_csv = \"./data_files/first900_fix.csv\"\n",
    "l_csv = \"./data_files/last900_fix.csv\"\n",
    "num_csv = \"./data_files/numberdotcom.csv\""
   ]
  },
  {
   "cell_type": "code",
   "execution_count": 8,
   "metadata": {},
   "outputs": [
    {
     "data": {
      "text/html": "<div>\n<style scoped>\n    .dataframe tbody tr th:only-of-type {\n        vertical-align: middle;\n    }\n\n    .dataframe tbody tr th {\n        vertical-align: top;\n    }\n\n    .dataframe thead th {\n        text-align: right;\n    }\n</style>\n<table border=\"1\" class=\"dataframe\">\n  <thead>\n    <tr style=\"text-align: right;\">\n      <th></th>\n      <th>Ranking per year</th>\n      <th>Released</th>\n      <th>Title</th>\n      <th>Source</th>\n      <th>Production\\nBudget</th>\n      <th>Opening Weekend\\nRevenue</th>\n      <th>Domestic\\nBox Office</th>\n      <th>Infl. Adj. Dom.\\nBox Office</th>\n      <th>International\\nBox Office</th>\n      <th>Worldwide\\nBox Office</th>\n    </tr>\n  </thead>\n  <tbody>\n    <tr>\n      <td>0</td>\n      <td>1</td>\n      <td>Nov 17, 2000</td>\n      <td>How the Grinch Stole Christmas</td>\n      <td>Based on Fiction Book/Short Story</td>\n      <td>$123,000,000</td>\n      <td>$55,820,330</td>\n      <td>$260,044,825</td>\n      <td>$438,980,791</td>\n      <td>$85,096,578</td>\n      <td>$345,141,403</td>\n    </tr>\n    <tr>\n      <td>1</td>\n      <td>2</td>\n      <td>Dec 22, 2000</td>\n      <td>Cast Away</td>\n      <td>Original Screenplay</td>\n      <td>$85,000,000</td>\n      <td>$28,883,406</td>\n      <td>$233,632,142</td>\n      <td>$384,884,272</td>\n      <td>$193,598,374</td>\n      <td>$427,230,516</td>\n    </tr>\n    <tr>\n      <td>2</td>\n      <td>3</td>\n      <td>May 24, 2000</td>\n      <td>Mission: Impossible 2</td>\n      <td>Based on TV</td>\n      <td>$120,000,000</td>\n      <td>$57,845,297</td>\n      <td>$215,409,889</td>\n      <td>$364,078,672</td>\n      <td>$334,178,627</td>\n      <td>$549,588,516</td>\n    </tr>\n    <tr>\n      <td>3</td>\n      <td>4</td>\n      <td>May 5, 2000</td>\n      <td>Gladiator</td>\n      <td>Original Screenplay</td>\n      <td>$103,000,000</td>\n      <td>$34,819,017</td>\n      <td>$187,683,805</td>\n      <td>$317,130,387</td>\n      <td>$270,000,000</td>\n      <td>$457,683,805</td>\n    </tr>\n    <tr>\n      <td>4</td>\n      <td>5</td>\n      <td>Dec 15, 2000</td>\n      <td>What Women Want</td>\n      <td>Original Screenplay</td>\n      <td>$65,000,000</td>\n      <td>$33,614,543</td>\n      <td>$182,805,123</td>\n      <td>$303,565,725</td>\n      <td>$191,300,000</td>\n      <td>$374,105,123</td>\n    </tr>\n  </tbody>\n</table>\n</div>",
      "text/plain": "   Ranking per year      Released                           Title  \\\n0                 1  Nov 17, 2000  How the Grinch Stole Christmas   \n1                 2  Dec 22, 2000                       Cast Away   \n2                 3  May 24, 2000           Mission: Impossible 2   \n3                 4   May 5, 2000                       Gladiator   \n4                 5  Dec 15, 2000                 What Women Want   \n\n                              Source Production\\nBudget  \\\n0  Based on Fiction Book/Short Story       $123,000,000   \n1                Original Screenplay        $85,000,000   \n2                        Based on TV       $120,000,000   \n3                Original Screenplay       $103,000,000   \n4                Original Screenplay        $65,000,000   \n\n  Opening Weekend\\nRevenue Domestic\\nBox Office Infl. Adj. Dom.\\nBox Office  \\\n0              $55,820,330         $260,044,825                $438,980,791   \n1              $28,883,406         $233,632,142                $384,884,272   \n2              $57,845,297         $215,409,889                $364,078,672   \n3              $34,819,017         $187,683,805                $317,130,387   \n4              $33,614,543         $182,805,123                $303,565,725   \n\n  International\\nBox Office Worldwide\\nBox Office  \n0               $85,096,578          $345,141,403  \n1              $193,598,374          $427,230,516  \n2              $334,178,627          $549,588,516  \n3              $270,000,000          $457,683,805  \n4              $191,300,000          $374,105,123  "
     },
     "execution_count": 8,
     "metadata": {},
     "output_type": "execute_result"
    }
   ],
   "source": [
    "# read in csv file for title list\n",
    "num_df = pd.read_csv(num_csv)\n",
    "f_df = pd.read_csv(f_csv)\n",
    "l_df = pd.read_csv(l_csv)\n",
    "num_df.head()\n"
   ]
  },
  {
   "cell_type": "code",
   "execution_count": 6,
   "metadata": {},
   "outputs": [
    {
     "name": "stdout",
     "output_type": "stream",
     "text": "861\n863\n1724\n"
    },
    {
     "data": {
      "text/html": "<div>\n<style scoped>\n    .dataframe tbody tr th:only-of-type {\n        vertical-align: middle;\n    }\n\n    .dataframe tbody tr th {\n        vertical-align: top;\n    }\n\n    .dataframe thead th {\n        text-align: right;\n    }\n</style>\n<table border=\"1\" class=\"dataframe\">\n  <thead>\n    <tr style=\"text-align: right;\">\n      <th></th>\n      <th>Unnamed: 0</th>\n      <th>title</th>\n      <th>ratings</th>\n      <th>awards</th>\n      <th>rated</th>\n      <th>runtime</th>\n      <th>genere</th>\n      <th>metascore</th>\n      <th>imdbRating</th>\n      <th>imdbVotes</th>\n      <th>imdbID</th>\n      <th>nominations</th>\n    </tr>\n  </thead>\n  <tbody>\n    <tr>\n      <td>0</td>\n      <td>0</td>\n      <td>How the Grinch Stole Christmas</td>\n      <td>[{'Source': 'Internet Movie Database', 'Value'...</td>\n      <td>Won 1 Oscar. Another 17 wins &amp; 37 nominations.</td>\n      <td>PG</td>\n      <td>104 min</td>\n      <td>Comedy, Family, Fantasy</td>\n      <td>46.0</td>\n      <td>6.1</td>\n      <td>193,860</td>\n      <td>tt0170016</td>\n      <td>37.0</td>\n    </tr>\n    <tr>\n      <td>1</td>\n      <td>1</td>\n      <td>Cast Away</td>\n      <td>[{'Source': 'Internet Movie Database', 'Value'...</td>\n      <td>Nominated for 2 Oscars. Another 15 wins &amp; 35 n...</td>\n      <td>PG-13</td>\n      <td>143 min</td>\n      <td>Adventure, Drama, Romance</td>\n      <td>73.0</td>\n      <td>7.8</td>\n      <td>491,190</td>\n      <td>tt0162222</td>\n      <td>35.0</td>\n    </tr>\n    <tr>\n      <td>2</td>\n      <td>2</td>\n      <td>Gladiator</td>\n      <td>[{'Source': 'Internet Movie Database', 'Value'...</td>\n      <td>Won 5 Oscars. Another 54 wins &amp; 104 nominations.</td>\n      <td>R</td>\n      <td>155 min</td>\n      <td>Action, Adventure, Drama</td>\n      <td>67.0</td>\n      <td>8.5</td>\n      <td>1,265,367</td>\n      <td>tt0172495</td>\n      <td>104.0</td>\n    </tr>\n    <tr>\n      <td>3</td>\n      <td>3</td>\n      <td>What Women Want</td>\n      <td>[{'Source': 'Internet Movie Database', 'Value'...</td>\n      <td>Nominated for 1 Golden Globe. Another 5 wins &amp;...</td>\n      <td>PG-13</td>\n      <td>127 min</td>\n      <td>Comedy, Fantasy, Romance</td>\n      <td>47.0</td>\n      <td>6.4</td>\n      <td>184,860</td>\n      <td>tt0207201</td>\n      <td>8.0</td>\n    </tr>\n    <tr>\n      <td>4</td>\n      <td>4</td>\n      <td>The Perfect Storm</td>\n      <td>[{'Source': 'Internet Movie Database', 'Value'...</td>\n      <td>Nominated for 2 Oscars. Another 4 wins &amp; 25 no...</td>\n      <td>PG-13</td>\n      <td>130 min</td>\n      <td>Action, Adventure, Drama, Thriller</td>\n      <td>59.0</td>\n      <td>6.4</td>\n      <td>149,878</td>\n      <td>tt0177971</td>\n      <td>25.0</td>\n    </tr>\n    <tr>\n      <td>...</td>\n      <td>...</td>\n      <td>...</td>\n      <td>...</td>\n      <td>...</td>\n      <td>...</td>\n      <td>...</td>\n      <td>...</td>\n      <td>...</td>\n      <td>...</td>\n      <td>...</td>\n      <td>...</td>\n      <td>...</td>\n    </tr>\n    <tr>\n      <td>858</td>\n      <td>858</td>\n      <td>Rock Dog</td>\n      <td>[{'Source': 'Internet Movie Database', 'Value'...</td>\n      <td>3 nominations.</td>\n      <td>PG</td>\n      <td>90 min</td>\n      <td>Animation, Adventure, Comedy, Family, Music</td>\n      <td>48.0</td>\n      <td>5.9</td>\n      <td>4,252</td>\n      <td>tt2822672</td>\n      <td>3.0</td>\n    </tr>\n    <tr>\n      <td>859</td>\n      <td>859</td>\n      <td>The Lost City of Z</td>\n      <td>[{'Source': 'Internet Movie Database', 'Value'...</td>\n      <td>6 wins &amp; 29 nominations.</td>\n      <td>PG-13</td>\n      <td>141 min</td>\n      <td>Biography, Drama, History</td>\n      <td>78.0</td>\n      <td>6.6</td>\n      <td>71,426</td>\n      <td>tt1212428</td>\n      <td>29.0</td>\n    </tr>\n    <tr>\n      <td>860</td>\n      <td>860</td>\n      <td>The Promise</td>\n      <td>[{'Source': 'Internet Movie Database', 'Value'...</td>\n      <td>2 wins &amp; 4 nominations.</td>\n      <td>PG-13</td>\n      <td>133 min</td>\n      <td>Action, Adventure, Drama, History, War</td>\n      <td>49.0</td>\n      <td>5.9</td>\n      <td>165,602</td>\n      <td>tt4776998</td>\n      <td>4.0</td>\n    </tr>\n    <tr>\n      <td>861</td>\n      <td>861</td>\n      <td>The Space Between Us</td>\n      <td>[{'Source': 'Internet Movie Database', 'Value'...</td>\n      <td>4 nominations.</td>\n      <td>PG-13</td>\n      <td>120 min</td>\n      <td>Drama, Romance, Sci-Fi</td>\n      <td>33.0</td>\n      <td>6.4</td>\n      <td>43,843</td>\n      <td>tt3922818</td>\n      <td>4.0</td>\n    </tr>\n    <tr>\n      <td>862</td>\n      <td>862</td>\n      <td>Birth of the Dragon</td>\n      <td>[{'Source': 'Internet Movie Database', 'Value'...</td>\n      <td>1 win.</td>\n      <td>PG-13</td>\n      <td>95 min</td>\n      <td>Action, Biography, Drama</td>\n      <td>35.0</td>\n      <td>5.5</td>\n      <td>6,589</td>\n      <td>tt2720826</td>\n      <td>NaN</td>\n    </tr>\n  </tbody>\n</table>\n<p>1724 rows × 12 columns</p>\n</div>",
      "text/plain": "     Unnamed: 0                           title  \\\n0             0  How the Grinch Stole Christmas   \n1             1                       Cast Away   \n2             2                       Gladiator   \n3             3                 What Women Want   \n4             4               The Perfect Storm   \n..          ...                             ...   \n858         858                        Rock Dog   \n859         859              The Lost City of Z   \n860         860                     The Promise   \n861         861            The Space Between Us   \n862         862             Birth of the Dragon   \n\n                                               ratings  \\\n0    [{'Source': 'Internet Movie Database', 'Value'...   \n1    [{'Source': 'Internet Movie Database', 'Value'...   \n2    [{'Source': 'Internet Movie Database', 'Value'...   \n3    [{'Source': 'Internet Movie Database', 'Value'...   \n4    [{'Source': 'Internet Movie Database', 'Value'...   \n..                                                 ...   \n858  [{'Source': 'Internet Movie Database', 'Value'...   \n859  [{'Source': 'Internet Movie Database', 'Value'...   \n860  [{'Source': 'Internet Movie Database', 'Value'...   \n861  [{'Source': 'Internet Movie Database', 'Value'...   \n862  [{'Source': 'Internet Movie Database', 'Value'...   \n\n                                                awards  rated  runtime  \\\n0       Won 1 Oscar. Another 17 wins & 37 nominations.     PG  104 min   \n1    Nominated for 2 Oscars. Another 15 wins & 35 n...  PG-13  143 min   \n2     Won 5 Oscars. Another 54 wins & 104 nominations.      R  155 min   \n3    Nominated for 1 Golden Globe. Another 5 wins &...  PG-13  127 min   \n4    Nominated for 2 Oscars. Another 4 wins & 25 no...  PG-13  130 min   \n..                                                 ...    ...      ...   \n858                                     3 nominations.     PG   90 min   \n859                           6 wins & 29 nominations.  PG-13  141 min   \n860                            2 wins & 4 nominations.  PG-13  133 min   \n861                                     4 nominations.  PG-13  120 min   \n862                                             1 win.  PG-13   95 min   \n\n                                          genere  metascore  imdbRating  \\\n0                        Comedy, Family, Fantasy       46.0         6.1   \n1                      Adventure, Drama, Romance       73.0         7.8   \n2                       Action, Adventure, Drama       67.0         8.5   \n3                       Comedy, Fantasy, Romance       47.0         6.4   \n4             Action, Adventure, Drama, Thriller       59.0         6.4   \n..                                           ...        ...         ...   \n858  Animation, Adventure, Comedy, Family, Music       48.0         5.9   \n859                    Biography, Drama, History       78.0         6.6   \n860       Action, Adventure, Drama, History, War       49.0         5.9   \n861                       Drama, Romance, Sci-Fi       33.0         6.4   \n862                     Action, Biography, Drama       35.0         5.5   \n\n     imdbVotes     imdbID  nominations  \n0      193,860  tt0170016         37.0  \n1      491,190  tt0162222         35.0  \n2    1,265,367  tt0172495        104.0  \n3      184,860  tt0207201          8.0  \n4      149,878  tt0177971         25.0  \n..         ...        ...          ...  \n858      4,252  tt2822672          3.0  \n859     71,426  tt1212428         29.0  \n860    165,602  tt4776998          4.0  \n861     43,843  tt3922818          4.0  \n862      6,589  tt2720826          NaN  \n\n[1724 rows x 12 columns]"
     },
     "execution_count": 6,
     "metadata": {},
     "output_type": "execute_result"
    }
   ],
   "source": [
    "print(len(f_df))\n",
    "print(len(l_df))\n",
    "\n",
    "fl_df = f_df.append(l_df)\n",
    "print(len(fl_df))\n",
    "fl_df"
   ]
  },
  {
   "cell_type": "code",
   "execution_count": 21,
   "metadata": {},
   "outputs": [],
   "source": [
    "fl_df.rename(columns={'title':'Title'},inplace=True)\n",
    "quick_df = pd.merge(num_df,fl_df,on='Title',how='left')\n"
   ]
  },
  {
   "cell_type": "code",
   "execution_count": 22,
   "metadata": {},
   "outputs": [
    {
     "data": {
      "text/html": "<div>\n<style scoped>\n    .dataframe tbody tr th:only-of-type {\n        vertical-align: middle;\n    }\n\n    .dataframe tbody tr th {\n        vertical-align: top;\n    }\n\n    .dataframe thead th {\n        text-align: right;\n    }\n</style>\n<table border=\"1\" class=\"dataframe\">\n  <thead>\n    <tr style=\"text-align: right;\">\n      <th></th>\n      <th>Ranking per year</th>\n      <th>Released</th>\n      <th>Title</th>\n      <th>Source</th>\n      <th>Production\\nBudget</th>\n      <th>Opening Weekend\\nRevenue</th>\n      <th>Domestic\\nBox Office</th>\n      <th>Infl. Adj. Dom.\\nBox Office</th>\n      <th>International\\nBox Office</th>\n      <th>Worldwide\\nBox Office</th>\n      <th>...</th>\n      <th>ratings</th>\n      <th>awards</th>\n      <th>rated</th>\n      <th>runtime</th>\n      <th>genere</th>\n      <th>metascore</th>\n      <th>imdbRating</th>\n      <th>imdbVotes</th>\n      <th>imdbID</th>\n      <th>nominations</th>\n    </tr>\n  </thead>\n  <tbody>\n    <tr>\n      <td>0</td>\n      <td>1</td>\n      <td>Nov 17, 2000</td>\n      <td>How the Grinch Stole Christmas</td>\n      <td>Based on Fiction Book/Short Story</td>\n      <td>$123,000,000</td>\n      <td>$55,820,330</td>\n      <td>$260,044,825</td>\n      <td>$438,980,791</td>\n      <td>$85,096,578</td>\n      <td>$345,141,403</td>\n      <td>...</td>\n      <td>[{'Source': 'Internet Movie Database', 'Value'...</td>\n      <td>Won 1 Oscar. Another 17 wins &amp; 37 nominations.</td>\n      <td>PG</td>\n      <td>104 min</td>\n      <td>Comedy, Family, Fantasy</td>\n      <td>46.0</td>\n      <td>6.1</td>\n      <td>193,860</td>\n      <td>tt0170016</td>\n      <td>37.0</td>\n    </tr>\n    <tr>\n      <td>1</td>\n      <td>2</td>\n      <td>Dec 22, 2000</td>\n      <td>Cast Away</td>\n      <td>Original Screenplay</td>\n      <td>$85,000,000</td>\n      <td>$28,883,406</td>\n      <td>$233,632,142</td>\n      <td>$384,884,272</td>\n      <td>$193,598,374</td>\n      <td>$427,230,516</td>\n      <td>...</td>\n      <td>[{'Source': 'Internet Movie Database', 'Value'...</td>\n      <td>Nominated for 2 Oscars. Another 15 wins &amp; 35 n...</td>\n      <td>PG-13</td>\n      <td>143 min</td>\n      <td>Adventure, Drama, Romance</td>\n      <td>73.0</td>\n      <td>7.8</td>\n      <td>491,190</td>\n      <td>tt0162222</td>\n      <td>35.0</td>\n    </tr>\n    <tr>\n      <td>2</td>\n      <td>3</td>\n      <td>May 24, 2000</td>\n      <td>Mission: Impossible 2</td>\n      <td>Based on TV</td>\n      <td>$120,000,000</td>\n      <td>$57,845,297</td>\n      <td>$215,409,889</td>\n      <td>$364,078,672</td>\n      <td>$334,178,627</td>\n      <td>$549,588,516</td>\n      <td>...</td>\n      <td>NaN</td>\n      <td>NaN</td>\n      <td>NaN</td>\n      <td>NaN</td>\n      <td>NaN</td>\n      <td>NaN</td>\n      <td>NaN</td>\n      <td>NaN</td>\n      <td>NaN</td>\n      <td>NaN</td>\n    </tr>\n    <tr>\n      <td>3</td>\n      <td>4</td>\n      <td>May 5, 2000</td>\n      <td>Gladiator</td>\n      <td>Original Screenplay</td>\n      <td>$103,000,000</td>\n      <td>$34,819,017</td>\n      <td>$187,683,805</td>\n      <td>$317,130,387</td>\n      <td>$270,000,000</td>\n      <td>$457,683,805</td>\n      <td>...</td>\n      <td>[{'Source': 'Internet Movie Database', 'Value'...</td>\n      <td>Won 5 Oscars. Another 54 wins &amp; 104 nominations.</td>\n      <td>R</td>\n      <td>155 min</td>\n      <td>Action, Adventure, Drama</td>\n      <td>67.0</td>\n      <td>8.5</td>\n      <td>1,265,367</td>\n      <td>tt0172495</td>\n      <td>104.0</td>\n    </tr>\n    <tr>\n      <td>4</td>\n      <td>5</td>\n      <td>Dec 15, 2000</td>\n      <td>What Women Want</td>\n      <td>Original Screenplay</td>\n      <td>$65,000,000</td>\n      <td>$33,614,543</td>\n      <td>$182,805,123</td>\n      <td>$303,565,725</td>\n      <td>$191,300,000</td>\n      <td>$374,105,123</td>\n      <td>...</td>\n      <td>[{'Source': 'Internet Movie Database', 'Value'...</td>\n      <td>Nominated for 1 Golden Globe. Another 5 wins &amp;...</td>\n      <td>PG-13</td>\n      <td>127 min</td>\n      <td>Comedy, Fantasy, Romance</td>\n      <td>47.0</td>\n      <td>6.4</td>\n      <td>184,860</td>\n      <td>tt0207201</td>\n      <td>8.0</td>\n    </tr>\n    <tr>\n      <td>...</td>\n      <td>...</td>\n      <td>...</td>\n      <td>...</td>\n      <td>...</td>\n      <td>...</td>\n      <td>...</td>\n      <td>...</td>\n      <td>...</td>\n      <td>...</td>\n      <td>...</td>\n      <td>...</td>\n      <td>...</td>\n      <td>...</td>\n      <td>...</td>\n      <td>...</td>\n      <td>...</td>\n      <td>...</td>\n      <td>...</td>\n      <td>...</td>\n      <td>...</td>\n      <td>...</td>\n    </tr>\n    <tr>\n      <td>1799</td>\n      <td>96</td>\n      <td>Feb 24, 2017</td>\n      <td>Rock Dog</td>\n      <td>Original Screenplay</td>\n      <td>$60,000,000</td>\n      <td>$3,704,749</td>\n      <td>$9,420,546</td>\n      <td>$9,567,577</td>\n      <td>$14,727,942</td>\n      <td>$24,148,488</td>\n      <td>...</td>\n      <td>[{'Source': 'Internet Movie Database', 'Value'...</td>\n      <td>3 nominations.</td>\n      <td>PG</td>\n      <td>90 min</td>\n      <td>Animation, Adventure, Comedy, Family, Music</td>\n      <td>48.0</td>\n      <td>5.9</td>\n      <td>4,252</td>\n      <td>tt2822672</td>\n      <td>3.0</td>\n    </tr>\n    <tr>\n      <td>1800</td>\n      <td>97</td>\n      <td>Apr 14, 2017</td>\n      <td>The Lost City of Z</td>\n      <td>Based on Factual Book/Article</td>\n      <td>$30,000,000</td>\n      <td>$110,175</td>\n      <td>$8,574,339</td>\n      <td>$8,708,158</td>\n      <td>$8,547,484</td>\n      <td>$17,121,823</td>\n      <td>...</td>\n      <td>[{'Source': 'Internet Movie Database', 'Value'...</td>\n      <td>6 wins &amp; 29 nominations.</td>\n      <td>PG-13</td>\n      <td>141 min</td>\n      <td>Biography, Drama, History</td>\n      <td>78.0</td>\n      <td>6.6</td>\n      <td>71,426</td>\n      <td>tt1212428</td>\n      <td>29.0</td>\n    </tr>\n    <tr>\n      <td>1801</td>\n      <td>98</td>\n      <td>Apr 21, 2017</td>\n      <td>The Promise</td>\n      <td>Original Screenplay</td>\n      <td>$90,000,000</td>\n      <td>$4,095,718</td>\n      <td>$8,224,288</td>\n      <td>$8,352,640</td>\n      <td>$2,327,129</td>\n      <td>$10,551,417</td>\n      <td>...</td>\n      <td>[{'Source': 'Internet Movie Database', 'Value'...</td>\n      <td>2 wins &amp; 4 nominations.</td>\n      <td>PG-13</td>\n      <td>133 min</td>\n      <td>Action, Adventure, Drama, History, War</td>\n      <td>49.0</td>\n      <td>5.9</td>\n      <td>165,602</td>\n      <td>tt4776998</td>\n      <td>4.0</td>\n    </tr>\n    <tr>\n      <td>1802</td>\n      <td>99</td>\n      <td>Feb 3, 2017</td>\n      <td>The Space Between Us</td>\n      <td>Original Screenplay</td>\n      <td>$30,000,000</td>\n      <td>$3,775,596</td>\n      <td>$7,885,294</td>\n      <td>$8,008,364</td>\n      <td>$8,596,111</td>\n      <td>$16,481,405</td>\n      <td>...</td>\n      <td>[{'Source': 'Internet Movie Database', 'Value'...</td>\n      <td>4 nominations.</td>\n      <td>PG-13</td>\n      <td>120 min</td>\n      <td>Drama, Romance, Sci-Fi</td>\n      <td>33.0</td>\n      <td>6.4</td>\n      <td>43,843</td>\n      <td>tt3922818</td>\n      <td>4.0</td>\n    </tr>\n    <tr>\n      <td>1803</td>\n      <td>100</td>\n      <td>Aug 25, 2017</td>\n      <td>Birth of the Dragon</td>\n      <td>Based on Real Life Events</td>\n      <td>$31,000,000</td>\n      <td>$2,702,430</td>\n      <td>$6,901,965</td>\n      <td>$7,009,680</td>\n      <td>$318,525</td>\n      <td>$7,220,490</td>\n      <td>...</td>\n      <td>[{'Source': 'Internet Movie Database', 'Value'...</td>\n      <td>1 win.</td>\n      <td>PG-13</td>\n      <td>95 min</td>\n      <td>Action, Biography, Drama</td>\n      <td>35.0</td>\n      <td>5.5</td>\n      <td>6,589</td>\n      <td>tt2720826</td>\n      <td>NaN</td>\n    </tr>\n  </tbody>\n</table>\n<p>1804 rows × 21 columns</p>\n</div>",
      "text/plain": "      Ranking per year      Released                           Title  \\\n0                    1  Nov 17, 2000  How the Grinch Stole Christmas   \n1                    2  Dec 22, 2000                       Cast Away   \n2                    3  May 24, 2000           Mission: Impossible 2   \n3                    4   May 5, 2000                       Gladiator   \n4                    5  Dec 15, 2000                 What Women Want   \n...                ...           ...                             ...   \n1799                96  Feb 24, 2017                        Rock Dog   \n1800                97  Apr 14, 2017              The Lost City of Z   \n1801                98  Apr 21, 2017                     The Promise   \n1802                99   Feb 3, 2017            The Space Between Us   \n1803               100  Aug 25, 2017             Birth of the Dragon   \n\n                                 Source Production\\nBudget  \\\n0     Based on Fiction Book/Short Story       $123,000,000   \n1                   Original Screenplay        $85,000,000   \n2                           Based on TV       $120,000,000   \n3                   Original Screenplay       $103,000,000   \n4                   Original Screenplay        $65,000,000   \n...                                 ...                ...   \n1799                Original Screenplay        $60,000,000   \n1800      Based on Factual Book/Article        $30,000,000   \n1801                Original Screenplay        $90,000,000   \n1802                Original Screenplay        $30,000,000   \n1803          Based on Real Life Events        $31,000,000   \n\n     Opening Weekend\\nRevenue Domestic\\nBox Office  \\\n0                 $55,820,330         $260,044,825   \n1                 $28,883,406         $233,632,142   \n2                 $57,845,297         $215,409,889   \n3                 $34,819,017         $187,683,805   \n4                 $33,614,543         $182,805,123   \n...                       ...                  ...   \n1799               $3,704,749           $9,420,546   \n1800                 $110,175           $8,574,339   \n1801               $4,095,718           $8,224,288   \n1802               $3,775,596           $7,885,294   \n1803               $2,702,430           $6,901,965   \n\n     Infl. Adj. Dom.\\nBox Office International\\nBox Office  \\\n0                   $438,980,791               $85,096,578   \n1                   $384,884,272              $193,598,374   \n2                   $364,078,672              $334,178,627   \n3                   $317,130,387              $270,000,000   \n4                   $303,565,725              $191,300,000   \n...                          ...                       ...   \n1799                  $9,567,577               $14,727,942   \n1800                  $8,708,158                $8,547,484   \n1801                  $8,352,640                $2,327,129   \n1802                  $8,008,364                $8,596,111   \n1803                  $7,009,680                  $318,525   \n\n     Worldwide\\nBox Office  ...  \\\n0             $345,141,403  ...   \n1             $427,230,516  ...   \n2             $549,588,516  ...   \n3             $457,683,805  ...   \n4             $374,105,123  ...   \n...                    ...  ...   \n1799           $24,148,488  ...   \n1800           $17,121,823  ...   \n1801           $10,551,417  ...   \n1802           $16,481,405  ...   \n1803            $7,220,490  ...   \n\n                                                ratings  \\\n0     [{'Source': 'Internet Movie Database', 'Value'...   \n1     [{'Source': 'Internet Movie Database', 'Value'...   \n2                                                   NaN   \n3     [{'Source': 'Internet Movie Database', 'Value'...   \n4     [{'Source': 'Internet Movie Database', 'Value'...   \n...                                                 ...   \n1799  [{'Source': 'Internet Movie Database', 'Value'...   \n1800  [{'Source': 'Internet Movie Database', 'Value'...   \n1801  [{'Source': 'Internet Movie Database', 'Value'...   \n1802  [{'Source': 'Internet Movie Database', 'Value'...   \n1803  [{'Source': 'Internet Movie Database', 'Value'...   \n\n                                                 awards  rated  runtime  \\\n0        Won 1 Oscar. Another 17 wins & 37 nominations.     PG  104 min   \n1     Nominated for 2 Oscars. Another 15 wins & 35 n...  PG-13  143 min   \n2                                                   NaN    NaN      NaN   \n3      Won 5 Oscars. Another 54 wins & 104 nominations.      R  155 min   \n4     Nominated for 1 Golden Globe. Another 5 wins &...  PG-13  127 min   \n...                                                 ...    ...      ...   \n1799                                     3 nominations.     PG   90 min   \n1800                           6 wins & 29 nominations.  PG-13  141 min   \n1801                            2 wins & 4 nominations.  PG-13  133 min   \n1802                                     4 nominations.  PG-13  120 min   \n1803                                             1 win.  PG-13   95 min   \n\n                                           genere metascore  imdbRating  \\\n0                         Comedy, Family, Fantasy      46.0         6.1   \n1                       Adventure, Drama, Romance      73.0         7.8   \n2                                             NaN       NaN         NaN   \n3                        Action, Adventure, Drama      67.0         8.5   \n4                        Comedy, Fantasy, Romance      47.0         6.4   \n...                                           ...       ...         ...   \n1799  Animation, Adventure, Comedy, Family, Music      48.0         5.9   \n1800                    Biography, Drama, History      78.0         6.6   \n1801       Action, Adventure, Drama, History, War      49.0         5.9   \n1802                       Drama, Romance, Sci-Fi      33.0         6.4   \n1803                     Action, Biography, Drama      35.0         5.5   \n\n      imdbVotes     imdbID nominations  \n0       193,860  tt0170016        37.0  \n1       491,190  tt0162222        35.0  \n2           NaN        NaN         NaN  \n3     1,265,367  tt0172495       104.0  \n4       184,860  tt0207201         8.0  \n...         ...        ...         ...  \n1799      4,252  tt2822672         3.0  \n1800     71,426  tt1212428        29.0  \n1801    165,602  tt4776998         4.0  \n1802     43,843  tt3922818         4.0  \n1803      6,589  tt2720826         NaN  \n\n[1804 rows x 21 columns]"
     },
     "execution_count": 22,
     "metadata": {},
     "output_type": "execute_result"
    }
   ],
   "source": [
    "quick_df"
   ]
  },
  {
   "cell_type": "code",
   "execution_count": 27,
   "metadata": {},
   "outputs": [
    {
     "name": "stdout",
     "output_type": "stream",
     "text": "1800\nIndex(['Ranking per year', 'Released', 'Title', 'Source', 'Production\\nBudget',\n       'Opening Weekend\\nRevenue', 'Domestic\\nBox Office',\n       'Infl. Adj. Dom.\\nBox Office', 'International\\nBox Office',\n       'Worldwide\\nBox Office', 'ratings', 'awards', 'rated', 'runtime',\n       'genere', 'metascore', 'imdbRating', 'imdbVotes', 'imdbID',\n       'nominations'],\n      dtype='object')\n"
    }
   ],
   "source": [
    "quick_df.drop(columns='Unnamed: 0',inplace=True)\n",
    "print(len(num_df))\n",
    "print(quick_df.columns)\n"
   ]
  },
  {
   "cell_type": "code",
   "execution_count": 32,
   "metadata": {},
   "outputs": [
    {
     "data": {
      "text/plain": "Harry Potter and the Deathly Hallows:…    2\nFantastic Four                            2\nDraft Day                                 1\nDate Night                                1\nSeventh Son                               1\n                                         ..\nDefiance                                  1\nAlice in Wonderland                       1\nLeap Year                                 1\nHart's War                                1\nVanilla Sky                               1\nName: Title, Length: 1798, dtype: int64"
     },
     "execution_count": 32,
     "metadata": {},
     "output_type": "execute_result"
    }
   ],
   "source": [
    "num_df['Title'].value_counts()\n",
    "#Harry potter 7,8\n",
    "#"
   ]
  },
  {
   "cell_type": "code",
   "execution_count": 31,
   "metadata": {},
   "outputs": [
    {
     "name": "stdout",
     "output_type": "stream",
     "text": "1798\n1798\n1722\n861\n862\n861\n863\n"
    }
   ],
   "source": [
    "print(len(quick_df['Title'].unique()))\n",
    "print(len(num_df['Title'].unique()))\n",
    "print(len(fl_df['Title'].unique()))\n",
    "print(len(f_df['title'].unique()))\n",
    "print(len(l_df['title'].unique()))\n",
    "print(len(f_df['title']))\n",
    "print(len(l_df['title']))\n",
    "\n",
    "\n"
   ]
  },
  {
   "cell_type": "code",
   "execution_count": 28,
   "metadata": {},
   "outputs": [],
   "source": [
    "quick_df.to_csv('./data_files/quick_merge.csv')"
   ]
  },
  {
   "cell_type": "code",
   "execution_count": 36,
   "metadata": {},
   "outputs": [
    {
     "data": {
      "text/plain": "'Pirates of the Caribbean: On Stranger…'"
     },
     "execution_count": 36,
     "metadata": {},
     "output_type": "execute_result"
    }
   ],
   "source": [
    "num_df['Title'][1104]"
   ]
  },
  {
   "cell_type": "code",
   "execution_count": null,
   "metadata": {},
   "outputs": [],
   "source": []
  }
 ],
 "metadata": {
  "kernelspec": {
   "display_name": "Python 3",
   "language": "python",
   "name": "python3"
  },
  "language_info": {
   "codemirror_mode": {
    "name": "ipython",
    "version": 3
   },
   "file_extension": ".py",
   "mimetype": "text/x-python",
   "name": "python",
   "nbconvert_exporter": "python",
   "pygments_lexer": "ipython3",
   "version": "3.7.4-final"
  },
  "varInspector": {
   "cols": {
    "lenName": 16,
    "lenType": 16,
    "lenVar": 40
   },
   "kernels_config": {
    "python": {
     "delete_cmd_postfix": "",
     "delete_cmd_prefix": "del ",
     "library": "var_list.py",
     "varRefreshCmd": "print(var_dic_list())"
    },
    "r": {
     "delete_cmd_postfix": ") ",
     "delete_cmd_prefix": "rm(",
     "library": "var_list.r",
     "varRefreshCmd": "cat(var_dic_list()) "
    }
   },
   "types_to_exclude": [
    "module",
    "function",
    "builtin_function_or_method",
    "instance",
    "_Feature"
   ],
   "window_display": false
  }
 },
 "nbformat": 4,
 "nbformat_minor": 2
}