{
 "cells": [
  {
   "cell_type": "code",
   "execution_count": 318,
   "metadata": {},
   "outputs": [],
   "source": [
    "import pandas as pd"
   ]
  },
  {
   "cell_type": "code",
   "execution_count": 319,
   "metadata": {},
   "outputs": [],
   "source": [
    "df = pd.read_csv('./data_files/quick_merge_with_youtube.csv', low_memory=False)"
   ]
  },
  {
   "cell_type": "code",
   "execution_count": 320,
   "metadata": {},
   "outputs": [],
   "source": [
    "df['Released'] = pd.to_datetime(df['Released'], utc=True, errors='coerce')"
   ]
  },
  {
   "cell_type": "code",
   "execution_count": 321,
   "metadata": {},
   "outputs": [],
   "source": [
    "# repl = \"C|\\]|\\[|\\'|:|\\{|\\}|\\,\"\n",
    "# df['genres'] = df['genres'].str.replace(repl, '')\n",
    "# df['genres'] = df['genres'].str.split(' ')"
   ]
  },
  {
   "cell_type": "code",
   "execution_count": 322,
   "metadata": {},
   "outputs": [
    {
     "data": {
      "text/plain": [
       "Friday       1544\n",
       "Wednesday     186\n",
       "Thursday       37\n",
       "Tuesday        19\n",
       "Monday          6\n",
       "Sunday          5\n",
       "Saturday        3\n",
       "Name: Released, dtype: int64"
      ]
     },
     "execution_count": 322,
     "metadata": {},
     "output_type": "execute_result"
    }
   ],
   "source": [
    "df['Released'].dt.day_name().value_counts()"
   ]
  },
  {
   "cell_type": "code",
   "execution_count": 323,
   "metadata": {},
   "outputs": [],
   "source": [
    "df['release_year'] = df['Released'].dt.year"
   ]
  },
  {
   "cell_type": "code",
   "execution_count": 324,
   "metadata": {},
   "outputs": [],
   "source": [
    "df['release_month'] = df['Released'].dt.month"
   ]
  },
  {
   "cell_type": "code",
   "execution_count": 325,
   "metadata": {},
   "outputs": [],
   "source": [
    "df['Production Budget'] = df['Production Budget'].str.replace('\\$|\\,', '').astype('float')"
   ]
  },
  {
   "cell_type": "code",
   "execution_count": 326,
   "metadata": {},
   "outputs": [],
   "source": [
    "df['Opening Weekend Revenue'] = df['Opening Weekend Revenue'].str.replace('\\$|\\,', '').astype('float')"
   ]
  },
  {
   "cell_type": "code",
   "execution_count": 327,
   "metadata": {},
   "outputs": [],
   "source": [
    "df['Domestic Box Office'] = df['Domestic Box Office'].str.replace('\\$|\\,', '').astype('float')"
   ]
  },
  {
   "cell_type": "code",
   "execution_count": 328,
   "metadata": {},
   "outputs": [],
   "source": [
    "df['Infl. Adj. Dom. Box Office'] = df['Infl. Adj. Dom. Box Office'].str.replace('\\$|\\,', '').astype('float')"
   ]
  },
  {
   "cell_type": "code",
   "execution_count": null,
   "metadata": {},
   "outputs": [],
   "source": [
    "df['Runtime'] = df['Runtime'].str.replace('\\$|\\,|min', '').astype('float')"
   ]
  },
  {
   "cell_type": "code",
   "execution_count": null,
   "metadata": {},
   "outputs": [],
   "source": [
    "df['imdbVotes'] = df['imdbVotes'].str.replace('\\$|\\,', '').astype('float')"
   ]
  },
  {
   "cell_type": "code",
   "execution_count": 334,
   "metadata": {},
   "outputs": [],
   "source": [
    "df['International Box Office'] = df['International Box Office'].str.replace('\\$|\\,', '').astype('float')"
   ]
  },
  {
   "cell_type": "code",
   "execution_count": 336,
   "metadata": {},
   "outputs": [],
   "source": [
    "df['Worldwide Box Office'] = df['Worldwide Box Office'].str.replace('\\$|\\,', '').astype('float')"
   ]
  },
  {
   "cell_type": "code",
   "execution_count": null,
   "metadata": {},
   "outputs": [],
   "source": []
  }
 ],
 "metadata": {
  "kernelspec": {
   "display_name": "Python 3.7.4 64-bit ('blper': virtualenv)",
   "language": "python",
   "name": "python37464bitblpervirtualenvd6446c7789ce49e6817d1aeff4673e37"
  },
  "language_info": {
   "codemirror_mode": {
    "name": "ipython",
    "version": 3
   },
   "file_extension": ".py",
   "mimetype": "text/x-python",
   "name": "python",
   "nbconvert_exporter": "python",
   "pygments_lexer": "ipython3",
   "version": "3.7.4"
  }
 },
 "nbformat": 4,
 "nbformat_minor": 4
}
