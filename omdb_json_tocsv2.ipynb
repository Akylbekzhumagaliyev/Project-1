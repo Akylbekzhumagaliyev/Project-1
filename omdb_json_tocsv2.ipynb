{
 "cells": [
  {
   "cell_type": "code",
   "execution_count": 1,
   "metadata": {},
   "outputs": [],
   "source": [
    "# Dependencies\n",
    "import requests\n",
    "import pandas as pd\n",
    "from config import api_key\n",
    "\n",
    "# read in csv file for title lis\n",
    "num_csv = \"./data_files/Numberdotcom.csv\"\n"
   ]
  },
  {
   "cell_type": "code",
   "execution_count": 2,
   "metadata": {},
   "outputs": [
    {
     "data": {
      "text/html": "<div>\n<style scoped>\n    .dataframe tbody tr th:only-of-type {\n        vertical-align: middle;\n    }\n\n    .dataframe tbody tr th {\n        vertical-align: top;\n    }\n\n    .dataframe thead th {\n        text-align: right;\n    }\n</style>\n<table border=\"1\" class=\"dataframe\">\n  <thead>\n    <tr style=\"text-align: right;\">\n      <th></th>\n      <th>Ranking per year</th>\n      <th>Released</th>\n      <th>Title</th>\n      <th>Source</th>\n      <th>Production\\nBudget</th>\n      <th>Opening Weekend\\nRevenue</th>\n      <th>Domestic\\nBox Office</th>\n      <th>Infl. Adj. Dom.\\nBox Office</th>\n      <th>International\\nBox Office</th>\n      <th>Worldwide\\nBox Office</th>\n    </tr>\n  </thead>\n  <tbody>\n    <tr>\n      <td>0</td>\n      <td>1</td>\n      <td>Nov 17, 2000</td>\n      <td>How the Grinch Stole Christmas</td>\n      <td>Based on Fiction Book/Short Story</td>\n      <td>$123,000,000</td>\n      <td>$55,820,330</td>\n      <td>$260,044,825</td>\n      <td>$438,980,791</td>\n      <td>$85,096,578</td>\n      <td>$345,141,403</td>\n    </tr>\n    <tr>\n      <td>1</td>\n      <td>2</td>\n      <td>Dec 22, 2000</td>\n      <td>Cast Away</td>\n      <td>Original Screenplay</td>\n      <td>$85,000,000</td>\n      <td>$28,883,406</td>\n      <td>$233,632,142</td>\n      <td>$384,884,272</td>\n      <td>$193,598,374</td>\n      <td>$427,230,516</td>\n    </tr>\n    <tr>\n      <td>2</td>\n      <td>3</td>\n      <td>May 24, 2000</td>\n      <td>Mission: Impossible 2</td>\n      <td>Based on TV</td>\n      <td>$120,000,000</td>\n      <td>$57,845,297</td>\n      <td>$215,409,889</td>\n      <td>$364,078,672</td>\n      <td>$334,178,627</td>\n      <td>$549,588,516</td>\n    </tr>\n    <tr>\n      <td>3</td>\n      <td>4</td>\n      <td>May 5, 2000</td>\n      <td>Gladiator</td>\n      <td>Original Screenplay</td>\n      <td>$103,000,000</td>\n      <td>$34,819,017</td>\n      <td>$187,683,805</td>\n      <td>$317,130,387</td>\n      <td>$270,000,000</td>\n      <td>$457,683,805</td>\n    </tr>\n    <tr>\n      <td>4</td>\n      <td>5</td>\n      <td>Dec 15, 2000</td>\n      <td>What Women Want</td>\n      <td>Original Screenplay</td>\n      <td>$65,000,000</td>\n      <td>$33,614,543</td>\n      <td>$182,805,123</td>\n      <td>$303,565,725</td>\n      <td>$191,300,000</td>\n      <td>$374,105,123</td>\n    </tr>\n  </tbody>\n</table>\n</div>",
      "text/plain": "   Ranking per year      Released                           Title  \\\n0                 1  Nov 17, 2000  How the Grinch Stole Christmas   \n1                 2  Dec 22, 2000                       Cast Away   \n2                 3  May 24, 2000           Mission: Impossible 2   \n3                 4   May 5, 2000                       Gladiator   \n4                 5  Dec 15, 2000                 What Women Want   \n\n                              Source Production\\nBudget  \\\n0  Based on Fiction Book/Short Story       $123,000,000   \n1                Original Screenplay        $85,000,000   \n2                        Based on TV       $120,000,000   \n3                Original Screenplay       $103,000,000   \n4                Original Screenplay        $65,000,000   \n\n  Opening Weekend\\nRevenue Domestic\\nBox Office Infl. Adj. Dom.\\nBox Office  \\\n0              $55,820,330         $260,044,825                $438,980,791   \n1              $28,883,406         $233,632,142                $384,884,272   \n2              $57,845,297         $215,409,889                $364,078,672   \n3              $34,819,017         $187,683,805                $317,130,387   \n4              $33,614,543         $182,805,123                $303,565,725   \n\n  International\\nBox Office Worldwide\\nBox Office  \n0               $85,096,578          $345,141,403  \n1              $193,598,374          $427,230,516  \n2              $334,178,627          $549,588,516  \n3              $270,000,000          $457,683,805  \n4              $191,300,000          $374,105,123  "
     },
     "execution_count": 2,
     "metadata": {},
     "output_type": "execute_result"
    }
   ],
   "source": [
    "# read in csv file for title list\n",
    "num_df = pd.read_csv(num_csv)\n",
    "num_df.head()"
   ]
  },
  {
   "cell_type": "code",
   "execution_count": 16,
   "metadata": {},
   "outputs": [
    {
     "data": {
      "text/plain": "'Birth of the Dragon'"
     },
     "execution_count": 16,
     "metadata": {},
     "output_type": "execute_result"
    }
   ],
   "source": [
    "# generate title list for api seach\n",
    "titles = num_df['Title'].tolist()\n",
    "titles[1799]\n"
   ]
  },
  {
   "cell_type": "code",
   "execution_count": 13,
   "metadata": {},
   "outputs": [],
   "source": [
    "# test run\n",
    "url = f\"http://www.omdbapi.com/?t={titles[900]}&apikey={api_key}\"\n",
    "response = requests.get(url).json()\n"
   ]
  },
  {
   "cell_type": "code",
   "execution_count": 14,
   "metadata": {},
   "outputs": [
    {
     "data": {
      "text/plain": "{'Title': 'Avatar',\n 'Year': '2009',\n 'Rated': 'PG-13',\n 'Released': '18 Dec 2009',\n 'Runtime': '162 min',\n 'Genre': 'Action, Adventure, Fantasy, Sci-Fi',\n 'Director': 'James Cameron',\n 'Writer': 'James Cameron',\n 'Actors': 'Sam Worthington, Zoe Saldana, Sigourney Weaver, Stephen Lang',\n 'Plot': 'A paraplegic Marine dispatched to the moon Pandora on a unique mission becomes torn between following his orders and protecting the world he feels is his home.',\n 'Language': 'English, Spanish',\n 'Country': 'USA',\n 'Awards': 'Won 3 Oscars. Another 86 wins & 129 nominations.',\n 'Poster': 'https://m.media-amazon.com/images/M/MV5BMTYwOTEwNjAzMl5BMl5BanBnXkFtZTcwODc5MTUwMw@@._V1_SX300.jpg',\n 'Ratings': [{'Source': 'Internet Movie Database', 'Value': '7.8/10'},\n  {'Source': 'Rotten Tomatoes', 'Value': '82%'},\n  {'Source': 'Metacritic', 'Value': '83/100'}],\n 'Metascore': '83',\n 'imdbRating': '7.8',\n 'imdbVotes': '1,078,016',\n 'imdbID': 'tt0499549',\n 'Type': 'movie',\n 'DVD': '22 Apr 2010',\n 'BoxOffice': '$749,700,000',\n 'Production': '20th Century Fox',\n 'Website': 'N/A',\n 'Response': 'True'}"
     },
     "execution_count": 14,
     "metadata": {},
     "output_type": "execute_result"
    }
   ],
   "source": [
    "# looking at json\n",
    "response"
   ]
  },
  {
   "cell_type": "code",
   "execution_count": 18,
   "metadata": {},
   "outputs": [],
   "source": [
    "# empty lists for dataframe construction\n",
    "ratings=[]\n",
    "awards=[]\n",
    "rated=[]\n",
    "runtime=[]\n",
    "genre=[]\n",
    "metascore=[]\n",
    "imdbRating=[]\n",
    "imdbVotes=[]\n",
    "imdbID=[]\n",
    "titles_edit=[]\n",
    "responses=[]"
   ]
  },
  {
   "cell_type": "code",
   "execution_count": 19,
   "metadata": {},
   "outputs": [
    {
     "name": "stdout",
     "output_type": "stream",
     "text": "Movie not found, title=Night at the Museum: Battle of the Sm…\nMovie not found, title=Disney’s A Christmas Carol\nMovie not found, title=Underworld 3: Rise of the Lycans\nMovie not found, title=Prince of Persia: Sands of Time\nMovie not found, title=Wall Street 2: Money Never Sleeps\nMovie not found, title=Saw 3D\nMovie not found, title=Love and Other Drugs\nMovie not found, title=Nanny McPhee and the Big Bang\nMovie not found, title=Alpha and Omega 3D\nMovie not found, title=Cowboys and Aliens\nMovie not found, title=Gnomeo and Juliet\nMovie not found, title=Mr. Poppers's Penguins\nMovie not found, title=Spy Kids: All the Time in the World\nMovie not found, title=Extremely Loud and Incredibly Close\nMovie not found, title=Doctor Seuss' The Lorax\nMovie not found, title=Tyler Perry's Madea's Witness Protection\nMovie not found, title=Kari gurashi no Arietti\nMovie not found, title=Fast and Furious 6\nMovie not found, title=The Hangover 3\nMovie not found, title=Jackass Presents: Bad Grandpa\nMovie not found, title=Disney Planes\nMovie not found, title=Tyler Perry's A Madea Christmas\nMovie not found, title=Scary Movie V\nMovie not found, title=The Hobbit: The Battle of the Five Ar…\nMovie not found, title=Planes: Fire and Rescue\nMovie not found, title=Star Wars Ep. VII: The Force Awakens\nMovie not found, title=The Divergent Series: Insurgent\nMovie not found, title=Baahubali: The Beginning\nMovie not found, title=The Conjuring 2: The Enfield Poltergeist\nMovie not found, title=The Divergent Series: Allegiant\nMovie not found, title=13 Hours: The Secret Soldiers of Beng…\nMovie not found, title=Star Wars Ep. VIII: The Last Jedi\nMovie not found, title=Pirates of the Caribbean: Dead Men Te…\nMovie not found, title=John Wick: Chapter Two\nMovie not found, title=Tyler Perry’s Boo 2! A Madea Halloween\nMovie not found, title=Valerian and the City of a Thousand P…\nMovie not found, title=Victoria and Abdul\n"
    }
   ],
   "source": [
    "# forloop for api call, limit to 1000 calls a day\n",
    "for i in range(900,1800):\n",
    "    url = f\"http://www.omdbapi.com/?t={titles[i]}&apikey={api_key}\"\n",
    "    response = requests.get(url).json()\n",
    "    responses.append(response)\n",
    "    try:\n",
    "        ratings.append(response['Ratings'])\n",
    "        awards.append(response['Awards'])\n",
    "        rated.append(response['Rated'])\n",
    "        runtime.append(response['Runtime'])\n",
    "        genre.append(response['Genre'])\n",
    "        metascore.append(response['Metascore'])\n",
    "        imdbRating.append(response['imdbRating'])\n",
    "        imdbVotes.append(response['imdbVotes'])\n",
    "        imdbID.append (response['imdbID'])\n",
    "        titles_edit.append(titles[i])\n",
    "    except:\n",
    "        print(f\"Movie not found, title={titles[i]}\")"
   ]
  },
  {
   "cell_type": "code",
   "execution_count": 57,
   "metadata": {},
   "outputs": [],
   "source": [
    "new_titles=test_df['title'].tolist()\n",
    "for mov in titles_edit:\n",
    "    new_titles.append(mov)"
   ]
  },
  {
   "cell_type": "code",
   "execution_count": 20,
   "metadata": {},
   "outputs": [
    {
     "data": {
      "text/html": "<div>\n<style scoped>\n    .dataframe tbody tr th:only-of-type {\n        vertical-align: middle;\n    }\n\n    .dataframe tbody tr th {\n        vertical-align: top;\n    }\n\n    .dataframe thead th {\n        text-align: right;\n    }\n</style>\n<table border=\"1\" class=\"dataframe\">\n  <thead>\n    <tr style=\"text-align: right;\">\n      <th></th>\n      <th>title</th>\n      <th>ratings</th>\n      <th>awards</th>\n      <th>rated</th>\n      <th>runtime</th>\n      <th>genere</th>\n      <th>metascore</th>\n      <th>imdbRating</th>\n      <th>imdbVotes</th>\n      <th>imdbID</th>\n    </tr>\n  </thead>\n  <tbody>\n    <tr>\n      <td>0</td>\n      <td>Avatar</td>\n      <td>[{'Source': 'Internet Movie Database', 'Value'...</td>\n      <td>Won 3 Oscars. Another 86 wins &amp; 129 nominations.</td>\n      <td>PG-13</td>\n      <td>162 min</td>\n      <td>Action, Adventure, Fantasy, Sci-Fi</td>\n      <td>83</td>\n      <td>7.8</td>\n      <td>1,078,016</td>\n      <td>tt0499549</td>\n    </tr>\n    <tr>\n      <td>1</td>\n      <td>Transformers: Revenge of the Fallen</td>\n      <td>[{'Source': 'Internet Movie Database', 'Value'...</td>\n      <td>Nominated for 1 Oscar. Another 15 wins &amp; 27 no...</td>\n      <td>PG-13</td>\n      <td>150 min</td>\n      <td>Action, Adventure, Sci-Fi</td>\n      <td>35</td>\n      <td>6.0</td>\n      <td>371,781</td>\n      <td>tt1055369</td>\n    </tr>\n    <tr>\n      <td>2</td>\n      <td>Harry Potter and the Half-Blood Prince</td>\n      <td>[{'Source': 'Internet Movie Database', 'Value'...</td>\n      <td>Nominated for 1 Oscar. Another 8 wins &amp; 35 nom...</td>\n      <td>PG</td>\n      <td>153 min</td>\n      <td>Action, Adventure, Family, Fantasy, Mystery</td>\n      <td>78</td>\n      <td>7.6</td>\n      <td>436,498</td>\n      <td>tt0417741</td>\n    </tr>\n    <tr>\n      <td>3</td>\n      <td>The Twilight Saga: New Moon</td>\n      <td>[{'Source': 'Internet Movie Database', 'Value'...</td>\n      <td>20 wins &amp; 24 nominations.</td>\n      <td>PG-13</td>\n      <td>130 min</td>\n      <td>Adventure, Drama, Fantasy, Mystery, Romance</td>\n      <td>44</td>\n      <td>4.7</td>\n      <td>254,666</td>\n      <td>tt1259571</td>\n    </tr>\n    <tr>\n      <td>4</td>\n      <td>Up</td>\n      <td>[{'Source': 'Internet Movie Database', 'Value'...</td>\n      <td>Won 2 Oscars. Another 77 wins &amp; 82 nominations.</td>\n      <td>PG</td>\n      <td>96 min</td>\n      <td>Animation, Adventure, Comedy, Family</td>\n      <td>88</td>\n      <td>8.2</td>\n      <td>878,357</td>\n      <td>tt1049413</td>\n    </tr>\n    <tr>\n      <td>...</td>\n      <td>...</td>\n      <td>...</td>\n      <td>...</td>\n      <td>...</td>\n      <td>...</td>\n      <td>...</td>\n      <td>...</td>\n      <td>...</td>\n      <td>...</td>\n      <td>...</td>\n    </tr>\n    <tr>\n      <td>858</td>\n      <td>Rock Dog</td>\n      <td>[{'Source': 'Internet Movie Database', 'Value'...</td>\n      <td>3 nominations.</td>\n      <td>PG</td>\n      <td>90 min</td>\n      <td>Animation, Adventure, Comedy, Family, Music</td>\n      <td>48</td>\n      <td>5.9</td>\n      <td>4,252</td>\n      <td>tt2822672</td>\n    </tr>\n    <tr>\n      <td>859</td>\n      <td>The Lost City of Z</td>\n      <td>[{'Source': 'Internet Movie Database', 'Value'...</td>\n      <td>6 wins &amp; 29 nominations.</td>\n      <td>PG-13</td>\n      <td>141 min</td>\n      <td>Biography, Drama, History</td>\n      <td>78</td>\n      <td>6.6</td>\n      <td>71,426</td>\n      <td>tt1212428</td>\n    </tr>\n    <tr>\n      <td>860</td>\n      <td>The Promise</td>\n      <td>[{'Source': 'Internet Movie Database', 'Value'...</td>\n      <td>2 wins &amp; 4 nominations.</td>\n      <td>PG-13</td>\n      <td>133 min</td>\n      <td>Action, Adventure, Drama, History, War</td>\n      <td>49</td>\n      <td>5.9</td>\n      <td>165,602</td>\n      <td>tt4776998</td>\n    </tr>\n    <tr>\n      <td>861</td>\n      <td>The Space Between Us</td>\n      <td>[{'Source': 'Internet Movie Database', 'Value'...</td>\n      <td>4 nominations.</td>\n      <td>PG-13</td>\n      <td>120 min</td>\n      <td>Drama, Romance, Sci-Fi</td>\n      <td>33</td>\n      <td>6.4</td>\n      <td>43,843</td>\n      <td>tt3922818</td>\n    </tr>\n    <tr>\n      <td>862</td>\n      <td>Birth of the Dragon</td>\n      <td>[{'Source': 'Internet Movie Database', 'Value'...</td>\n      <td>1 win.</td>\n      <td>PG-13</td>\n      <td>95 min</td>\n      <td>Action, Biography, Drama</td>\n      <td>35</td>\n      <td>5.5</td>\n      <td>6,589</td>\n      <td>tt2720826</td>\n    </tr>\n  </tbody>\n</table>\n<p>863 rows × 10 columns</p>\n</div>",
      "text/plain": "                                      title  \\\n0                                    Avatar   \n1       Transformers: Revenge of the Fallen   \n2    Harry Potter and the Half-Blood Prince   \n3               The Twilight Saga: New Moon   \n4                                        Up   \n..                                      ...   \n858                                Rock Dog   \n859                      The Lost City of Z   \n860                             The Promise   \n861                    The Space Between Us   \n862                     Birth of the Dragon   \n\n                                               ratings  \\\n0    [{'Source': 'Internet Movie Database', 'Value'...   \n1    [{'Source': 'Internet Movie Database', 'Value'...   \n2    [{'Source': 'Internet Movie Database', 'Value'...   \n3    [{'Source': 'Internet Movie Database', 'Value'...   \n4    [{'Source': 'Internet Movie Database', 'Value'...   \n..                                                 ...   \n858  [{'Source': 'Internet Movie Database', 'Value'...   \n859  [{'Source': 'Internet Movie Database', 'Value'...   \n860  [{'Source': 'Internet Movie Database', 'Value'...   \n861  [{'Source': 'Internet Movie Database', 'Value'...   \n862  [{'Source': 'Internet Movie Database', 'Value'...   \n\n                                                awards  rated  runtime  \\\n0     Won 3 Oscars. Another 86 wins & 129 nominations.  PG-13  162 min   \n1    Nominated for 1 Oscar. Another 15 wins & 27 no...  PG-13  150 min   \n2    Nominated for 1 Oscar. Another 8 wins & 35 nom...     PG  153 min   \n3                            20 wins & 24 nominations.  PG-13  130 min   \n4      Won 2 Oscars. Another 77 wins & 82 nominations.     PG   96 min   \n..                                                 ...    ...      ...   \n858                                     3 nominations.     PG   90 min   \n859                           6 wins & 29 nominations.  PG-13  141 min   \n860                            2 wins & 4 nominations.  PG-13  133 min   \n861                                     4 nominations.  PG-13  120 min   \n862                                             1 win.  PG-13   95 min   \n\n                                          genere metascore imdbRating  \\\n0             Action, Adventure, Fantasy, Sci-Fi        83        7.8   \n1                      Action, Adventure, Sci-Fi        35        6.0   \n2    Action, Adventure, Family, Fantasy, Mystery        78        7.6   \n3    Adventure, Drama, Fantasy, Mystery, Romance        44        4.7   \n4           Animation, Adventure, Comedy, Family        88        8.2   \n..                                           ...       ...        ...   \n858  Animation, Adventure, Comedy, Family, Music        48        5.9   \n859                    Biography, Drama, History        78        6.6   \n860       Action, Adventure, Drama, History, War        49        5.9   \n861                       Drama, Romance, Sci-Fi        33        6.4   \n862                     Action, Biography, Drama        35        5.5   \n\n     imdbVotes     imdbID  \n0    1,078,016  tt0499549  \n1      371,781  tt1055369  \n2      436,498  tt0417741  \n3      254,666  tt1259571  \n4      878,357  tt1049413  \n..         ...        ...  \n858      4,252  tt2822672  \n859     71,426  tt1212428  \n860    165,602  tt4776998  \n861     43,843  tt3922818  \n862      6,589  tt2720826  \n\n[863 rows x 10 columns]"
     },
     "execution_count": 20,
     "metadata": {},
     "output_type": "execute_result"
    }
   ],
   "source": [
    "omdb_df =pd.DataFrame({'title':titles_edit,\n",
    "                        'ratings':ratings,\n",
    "                        'awards':awards,\n",
    "                        'rated':rated,\n",
    "                        'runtime':runtime,\n",
    "                        'genere':genre,\n",
    "                        'metascore':metascore,\n",
    "                        'imdbRating':imdbRating,\n",
    "                        'imdbVotes':imdbVotes,\n",
    "                        'imdbID':imdbID})\n",
    "omdb_df"
   ]
  },
  {
   "cell_type": "code",
   "execution_count": 21,
   "metadata": {},
   "outputs": [],
   "source": [
    "# Save to local csv\n",
    "omdb_df.to_csv('./data_files/last900.csv')"
   ]
  },
  {
   "cell_type": "code",
   "execution_count": null,
   "metadata": {},
   "outputs": [],
   "source": []
  }
 ],
 "metadata": {
  "kernelspec": {
   "display_name": "Python 3",
   "language": "python",
   "name": "python3"
  },
  "language_info": {
   "codemirror_mode": {
    "name": "ipython",
    "version": 3
   },
   "file_extension": ".py",
   "mimetype": "text/x-python",
   "name": "python",
   "nbconvert_exporter": "python",
   "pygments_lexer": "ipython3",
   "version": "3.7.4-final"
  },
  "varInspector": {
   "cols": {
    "lenName": 16,
    "lenType": 16,
    "lenVar": 40
   },
   "kernels_config": {
    "python": {
     "delete_cmd_postfix": "",
     "delete_cmd_prefix": "del ",
     "library": "var_list.py",
     "varRefreshCmd": "print(var_dic_list())"
    },
    "r": {
     "delete_cmd_postfix": ") ",
     "delete_cmd_prefix": "rm(",
     "library": "var_list.r",
     "varRefreshCmd": "cat(var_dic_list()) "
    }
   },
   "types_to_exclude": [
    "module",
    "function",
    "builtin_function_or_method",
    "instance",
    "_Feature"
   ],
   "window_display": false
  }
 },
 "nbformat": 4,
 "nbformat_minor": 2
}