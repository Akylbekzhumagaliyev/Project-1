{
 "cells": [
  {
   "cell_type": "code",
   "execution_count": 2,
   "metadata": {},
   "outputs": [],
   "source": [
    "# Dependencies\n",
    "import requests\n",
    "import pandas as pd\n",
    "#from config import api_key\n",
    "# import api key\n",
    "api_key = 'trilogy'\n",
    "\n",
    "num_csv = \"./data_files/Numberdotcom.csv\"\n"
   ]
  },
  {
   "cell_type": "code",
   "execution_count": 4,
   "metadata": {},
   "outputs": [
    {
     "data": {
      "text/html": "<div>\n<style scoped>\n    .dataframe tbody tr th:only-of-type {\n        vertical-align: middle;\n    }\n\n    .dataframe tbody tr th {\n        vertical-align: top;\n    }\n\n    .dataframe thead th {\n        text-align: right;\n    }\n</style>\n<table border=\"1\" class=\"dataframe\">\n  <thead>\n    <tr style=\"text-align: right;\">\n      <th></th>\n      <th>Ranking per year</th>\n      <th>Released</th>\n      <th>Title</th>\n      <th>Source</th>\n      <th>Production\\nBudget</th>\n      <th>Opening Weekend\\nRevenue</th>\n      <th>Domestic\\nBox Office</th>\n      <th>Infl. Adj. Dom.\\nBox Office</th>\n      <th>International\\nBox Office</th>\n      <th>Worldwide\\nBox Office</th>\n    </tr>\n  </thead>\n  <tbody>\n    <tr>\n      <td>0</td>\n      <td>1</td>\n      <td>Nov 17, 2000</td>\n      <td>How the Grinch Stole Christmas</td>\n      <td>Based on Fiction Book/Short Story</td>\n      <td>$123,000,000</td>\n      <td>$55,820,330</td>\n      <td>$260,044,825</td>\n      <td>$438,980,791</td>\n      <td>$85,096,578</td>\n      <td>$345,141,403</td>\n    </tr>\n    <tr>\n      <td>1</td>\n      <td>2</td>\n      <td>Dec 22, 2000</td>\n      <td>Cast Away</td>\n      <td>Original Screenplay</td>\n      <td>$85,000,000</td>\n      <td>$28,883,406</td>\n      <td>$233,632,142</td>\n      <td>$384,884,272</td>\n      <td>$193,598,374</td>\n      <td>$427,230,516</td>\n    </tr>\n    <tr>\n      <td>2</td>\n      <td>3</td>\n      <td>May 24, 2000</td>\n      <td>Mission: Impossible 2</td>\n      <td>Based on TV</td>\n      <td>$120,000,000</td>\n      <td>$57,845,297</td>\n      <td>$215,409,889</td>\n      <td>$364,078,672</td>\n      <td>$334,178,627</td>\n      <td>$549,588,516</td>\n    </tr>\n    <tr>\n      <td>3</td>\n      <td>4</td>\n      <td>May 5, 2000</td>\n      <td>Gladiator</td>\n      <td>Original Screenplay</td>\n      <td>$103,000,000</td>\n      <td>$34,819,017</td>\n      <td>$187,683,805</td>\n      <td>$317,130,387</td>\n      <td>$270,000,000</td>\n      <td>$457,683,805</td>\n    </tr>\n    <tr>\n      <td>4</td>\n      <td>5</td>\n      <td>Dec 15, 2000</td>\n      <td>What Women Want</td>\n      <td>Original Screenplay</td>\n      <td>$65,000,000</td>\n      <td>$33,614,543</td>\n      <td>$182,805,123</td>\n      <td>$303,565,725</td>\n      <td>$191,300,000</td>\n      <td>$374,105,123</td>\n    </tr>\n  </tbody>\n</table>\n</div>",
      "text/plain": "   Ranking per year      Released                           Title  \\\n0                 1  Nov 17, 2000  How the Grinch Stole Christmas   \n1                 2  Dec 22, 2000                       Cast Away   \n2                 3  May 24, 2000           Mission: Impossible 2   \n3                 4   May 5, 2000                       Gladiator   \n4                 5  Dec 15, 2000                 What Women Want   \n\n                              Source Production\\nBudget  \\\n0  Based on Fiction Book/Short Story       $123,000,000   \n1                Original Screenplay        $85,000,000   \n2                        Based on TV       $120,000,000   \n3                Original Screenplay       $103,000,000   \n4                Original Screenplay        $65,000,000   \n\n  Opening Weekend\\nRevenue Domestic\\nBox Office Infl. Adj. Dom.\\nBox Office  \\\n0              $55,820,330         $260,044,825                $438,980,791   \n1              $28,883,406         $233,632,142                $384,884,272   \n2              $57,845,297         $215,409,889                $364,078,672   \n3              $34,819,017         $187,683,805                $317,130,387   \n4              $33,614,543         $182,805,123                $303,565,725   \n\n  International\\nBox Office Worldwide\\nBox Office  \n0               $85,096,578          $345,141,403  \n1              $193,598,374          $427,230,516  \n2              $334,178,627          $549,588,516  \n3              $270,000,000          $457,683,805  \n4              $191,300,000          $374,105,123  "
     },
     "execution_count": 4,
     "metadata": {},
     "output_type": "execute_result"
    }
   ],
   "source": [
    "# read in csv file for title list\n",
    "num_df = pd.read_csv(num_csv)\n",
    "num_df.head()"
   ]
  },
  {
   "cell_type": "code",
   "execution_count": 7,
   "metadata": {},
   "outputs": [
    {
     "data": {
      "text/plain": "'How the Grinch Stole Christmas'"
     },
     "execution_count": 7,
     "metadata": {},
     "output_type": "execute_result"
    }
   ],
   "source": [
    "# generate title list for api seach\n",
    "titles = num_df['Title'].tolist()\n",
    "titles[0]\n"
   ]
  },
  {
   "cell_type": "code",
   "execution_count": 8,
   "metadata": {},
   "outputs": [],
   "source": [
    "# test run\n",
    "url = f\"http://www.omdbapi.com/?apikey={api_key}&t=\"\n",
    "response = requests.get(url + titles[0]).json()\n"
   ]
  },
  {
   "cell_type": "code",
   "execution_count": 9,
   "metadata": {},
   "outputs": [
    {
     "data": {
      "text/plain": "{'Title': 'How the Grinch Stole Christmas',\n 'Year': '2000',\n 'Rated': 'PG',\n 'Released': '17 Nov 2000',\n 'Runtime': '104 min',\n 'Genre': 'Comedy, Family, Fantasy',\n 'Director': 'Ron Howard',\n 'Writer': 'Dr. Seuss (book), Jeffrey Price (screenplay), Peter S. Seaman (screenplay)',\n 'Actors': 'Jim Carrey, Taylor Momsen, Kelley, Jeffrey Tambor',\n 'Plot': 'On the outskirts of Whoville lives a green, revenge-seeking Grinch who plans to ruin Christmas for all of the citizens of the town.',\n 'Language': 'English',\n 'Country': 'USA',\n 'Awards': 'Won 1 Oscar. Another 17 wins & 37 nominations.',\n 'Poster': 'https://m.media-amazon.com/images/M/MV5BNWNiNTczNzEtMjQyZC00MjFmLTkzMDMtODk4ZGMyZmE0N2E4XkEyXkFqcGdeQXVyMTMxODk2OTU@._V1_SX300.jpg',\n 'Ratings': [{'Source': 'Internet Movie Database', 'Value': '6.1/10'},\n  {'Source': 'Rotten Tomatoes', 'Value': '50%'},\n  {'Source': 'Metacritic', 'Value': '46/100'}],\n 'Metascore': '46',\n 'imdbRating': '6.1',\n 'imdbVotes': '193,860',\n 'imdbID': 'tt0170016',\n 'Type': 'movie',\n 'DVD': '20 Nov 2001',\n 'BoxOffice': '$259,011,600',\n 'Production': 'Universal Pictures',\n 'Website': 'N/A',\n 'Response': 'True'}"
     },
     "execution_count": 9,
     "metadata": {},
     "output_type": "execute_result"
    }
   ],
   "source": [
    "# looking at json\n",
    "response"
   ]
  },
  {
   "cell_type": "code",
   "execution_count": 19,
   "metadata": {},
   "outputs": [],
   "source": [
    "# empty lists for dataframe construction\n",
    "ratings=[]\n",
    "awards=[]\n",
    "rated=[]\n",
    "runtime=[]\n",
    "genre=[]\n",
    "metascore=[]\n",
    "imdbRating=[]\n",
    "imdbVotes=[]\n",
    "imdbID=[]\n",
    "titles_edit=[]\n",
    "responses=[]"
   ]
  },
  {
   "cell_type": "code",
   "execution_count": 48,
   "metadata": {},
   "outputs": [
    {
     "name": "stdout",
     "output_type": "stream",
     "text": "Movie not found, title=Artificial Intelligence: AI\nMovie not found, title=Don’t Say a Word\nMovie not found, title=Kate and Leopold\nMovie not found, title=Thirteen Ghosts\nMovie not found, title=Star Wars Ep. II: Attack of the Clones\nMovie not found, title=Men in Black 2\nMovie not found, title=Spy Kids 2: The Island of Lost Dreams\nMovie not found, title=The Divine Secrets of the Ya-Ya Siste…\nMovie not found, title=Peter Pan: Return to Neverland\nMovie not found, title=Pirates of the Caribbean: The Curse o…\nMovie not found, title=X-Men 2\nMovie not found, title=Kill Bill: Volume 1\nMovie not found, title=Lara Croft: Tomb Raider: The Cradle o…\nMovie not found, title=Lemony Snicket's A Series of Unfortun…\nMovie not found, title=SpongeBob SquarePants: The Movie\nMovie not found, title=AVP: Alien Vs. Predator\nMovie not found, title=Garfield: The Movie\nMovie not found, title=Jet Li's Hero\nMovie not found, title=Star Wars Ep. III: Revenge of the Sith\nMovie not found, title=The Chronicles of Narnia: The Lion, t…\nMovie not found, title=Miss Congeniality 2: Armed and Fabulous\nMovie not found, title=The Transporter 2\nMovie not found, title=The Adventures of Sharkboy and Lavagi…\nMovie not found, title=Danny the Dog\nMovie not found, title=2 For the Money\nMovie not found, title=George A. Romero's Land of the Dead\nMovie not found, title=Pirates of the Caribbean: Dead Man’…\nMovie not found, title=Barnyard: The Original Party Animals\nMovie not found, title=The Texas Chainsaw Massacre: The Begi…\nMovie not found, title=El Laberinto del Fauno\nMovie not found, title=Pirates of the Caribbean: At World’…\nMovie not found, title=Harry Potter and the Order of the Pho…\nMovie not found, title=Fantastic Four: Rise of the Silver Su…\nMovie not found, title=I Now Pronounce You Chuck and Larry\nMovie not found, title=The Hills Have Eyes II\nMovie not found, title=Arthur et les Minimoys\n"
    }
   ],
   "source": [
    "# forloop for api call, limit to 1000 calls a day\n",
    "for i in range(100,900):\n",
    "    response = requests.get(url + titles[i]).json()\n",
    "    responses.append(response)\n",
    "    try:\n",
    "        ratings.append(response['Ratings'])\n",
    "        awards.append(response['Awards'])\n",
    "        rated.append(response['Rated'])\n",
    "        runtime.append(response['Runtime'])\n",
    "        genre.append(response['Genre'])\n",
    "        metascore.append(response['Metascore'])\n",
    "        imdbRating.append(response['imdbRating'])\n",
    "        imdbVotes.append(response['imdbVotes'])\n",
    "        imdbID.append (response['imdbID'])\n",
    "        titles_edit.append(titles[i])\n",
    "    except:\n",
    "        print(f\"Movie not found, title={title[i]}\")"
   ]
  },
  {
   "cell_type": "code",
   "execution_count": 57,
   "metadata": {},
   "outputs": [],
   "source": [
    "new_titles=test_df['title'].tolist()\n",
    "for mov in titles_edit:\n",
    "    new_titles.append(mov)"
   ]
  },
  {
   "cell_type": "code",
   "execution_count": 58,
   "metadata": {},
   "outputs": [
    {
     "data": {
      "text/html": "<div>\n<style scoped>\n    .dataframe tbody tr th:only-of-type {\n        vertical-align: middle;\n    }\n\n    .dataframe tbody tr th {\n        vertical-align: top;\n    }\n\n    .dataframe thead th {\n        text-align: right;\n    }\n</style>\n<table border=\"1\" class=\"dataframe\">\n  <thead>\n    <tr style=\"text-align: right;\">\n      <th></th>\n      <th>title</th>\n      <th>ratings</th>\n      <th>awards</th>\n      <th>rated</th>\n      <th>runtime</th>\n      <th>genere</th>\n      <th>metascore</th>\n      <th>imdbRating</th>\n      <th>imdbVotes</th>\n      <th>imdbID</th>\n    </tr>\n  </thead>\n  <tbody>\n    <tr>\n      <td>0</td>\n      <td>How the Grinch Stole Christmas</td>\n      <td>[{'Source': 'Internet Movie Database', 'Value'...</td>\n      <td>Won 1 Oscar. Another 17 wins &amp; 37 nominations.</td>\n      <td>PG</td>\n      <td>104 min</td>\n      <td>Comedy, Family, Fantasy</td>\n      <td>46</td>\n      <td>6.1</td>\n      <td>193,860</td>\n      <td>tt0170016</td>\n    </tr>\n    <tr>\n      <td>1</td>\n      <td>Cast Away</td>\n      <td>[{'Source': 'Internet Movie Database', 'Value'...</td>\n      <td>Nominated for 2 Oscars. Another 15 wins &amp; 35 n...</td>\n      <td>PG-13</td>\n      <td>143 min</td>\n      <td>Adventure, Drama, Romance</td>\n      <td>73</td>\n      <td>7.8</td>\n      <td>491,190</td>\n      <td>tt0162222</td>\n    </tr>\n    <tr>\n      <td>2</td>\n      <td>Gladiator</td>\n      <td>[{'Source': 'Internet Movie Database', 'Value'...</td>\n      <td>Won 5 Oscars. Another 54 wins &amp; 104 nominations.</td>\n      <td>R</td>\n      <td>155 min</td>\n      <td>Action, Adventure, Drama</td>\n      <td>67</td>\n      <td>8.5</td>\n      <td>1,265,367</td>\n      <td>tt0172495</td>\n    </tr>\n    <tr>\n      <td>3</td>\n      <td>What Women Want</td>\n      <td>[{'Source': 'Internet Movie Database', 'Value'...</td>\n      <td>Nominated for 1 Golden Globe. Another 5 wins &amp;...</td>\n      <td>PG-13</td>\n      <td>127 min</td>\n      <td>Comedy, Fantasy, Romance</td>\n      <td>47</td>\n      <td>6.4</td>\n      <td>184,860</td>\n      <td>tt0207201</td>\n    </tr>\n    <tr>\n      <td>4</td>\n      <td>The Perfect Storm</td>\n      <td>[{'Source': 'Internet Movie Database', 'Value'...</td>\n      <td>Nominated for 2 Oscars. Another 4 wins &amp; 25 no...</td>\n      <td>PG-13</td>\n      <td>130 min</td>\n      <td>Action, Adventure, Drama, Thriller</td>\n      <td>59</td>\n      <td>6.4</td>\n      <td>149,878</td>\n      <td>tt0177971</td>\n    </tr>\n    <tr>\n      <td>...</td>\n      <td>...</td>\n      <td>...</td>\n      <td>...</td>\n      <td>...</td>\n      <td>...</td>\n      <td>...</td>\n      <td>...</td>\n      <td>...</td>\n      <td>...</td>\n      <td>...</td>\n    </tr>\n    <tr>\n      <td>856</td>\n      <td>Appaloosa</td>\n      <td>[{'Source': 'Internet Movie Database', 'Value'...</td>\n      <td>4 wins.</td>\n      <td>R</td>\n      <td>115 min</td>\n      <td>Action, Crime, Drama, Romance, Western</td>\n      <td>64</td>\n      <td>6.7</td>\n      <td>56,692</td>\n      <td>tt0800308</td>\n    </tr>\n    <tr>\n      <td>857</td>\n      <td>The Spirit</td>\n      <td>[{'Source': 'Internet Movie Database', 'Value'...</td>\n      <td>2 nominations.</td>\n      <td>PG-13</td>\n      <td>103 min</td>\n      <td>Action, Crime, Fantasy, Thriller</td>\n      <td>30</td>\n      <td>4.8</td>\n      <td>58,456</td>\n      <td>tt0831887</td>\n    </tr>\n    <tr>\n      <td>858</td>\n      <td>Igor</td>\n      <td>[{'Source': 'Internet Movie Database', 'Value'...</td>\n      <td>1 nomination.</td>\n      <td>PG</td>\n      <td>87 min</td>\n      <td>Animation, Comedy, Family, Fantasy</td>\n      <td>40</td>\n      <td>6.0</td>\n      <td>21,758</td>\n      <td>tt0465502</td>\n    </tr>\n    <tr>\n      <td>859</td>\n      <td>My Best Friend's Girl</td>\n      <td>[{'Source': 'Internet Movie Database', 'Value'...</td>\n      <td>1 nomination.</td>\n      <td>R</td>\n      <td>101 min</td>\n      <td>Comedy, Romance</td>\n      <td>34</td>\n      <td>5.9</td>\n      <td>41,515</td>\n      <td>tt1046163</td>\n    </tr>\n    <tr>\n      <td>860</td>\n      <td>Frost/Nixon</td>\n      <td>[{'Source': 'Internet Movie Database', 'Value'...</td>\n      <td>Nominated for 5 Oscars. Another 23 wins &amp; 74 n...</td>\n      <td>R</td>\n      <td>122 min</td>\n      <td>Biography, Drama, History</td>\n      <td>80</td>\n      <td>7.7</td>\n      <td>98,657</td>\n      <td>tt0870111</td>\n    </tr>\n  </tbody>\n</table>\n<p>861 rows × 10 columns</p>\n</div>",
      "text/plain": "                              title  \\\n0    How the Grinch Stole Christmas   \n1                         Cast Away   \n2                         Gladiator   \n3                   What Women Want   \n4                 The Perfect Storm   \n..                              ...   \n856                       Appaloosa   \n857                      The Spirit   \n858                            Igor   \n859           My Best Friend's Girl   \n860                     Frost/Nixon   \n\n                                               ratings  \\\n0    [{'Source': 'Internet Movie Database', 'Value'...   \n1    [{'Source': 'Internet Movie Database', 'Value'...   \n2    [{'Source': 'Internet Movie Database', 'Value'...   \n3    [{'Source': 'Internet Movie Database', 'Value'...   \n4    [{'Source': 'Internet Movie Database', 'Value'...   \n..                                                 ...   \n856  [{'Source': 'Internet Movie Database', 'Value'...   \n857  [{'Source': 'Internet Movie Database', 'Value'...   \n858  [{'Source': 'Internet Movie Database', 'Value'...   \n859  [{'Source': 'Internet Movie Database', 'Value'...   \n860  [{'Source': 'Internet Movie Database', 'Value'...   \n\n                                                awards  rated  runtime  \\\n0       Won 1 Oscar. Another 17 wins & 37 nominations.     PG  104 min   \n1    Nominated for 2 Oscars. Another 15 wins & 35 n...  PG-13  143 min   \n2     Won 5 Oscars. Another 54 wins & 104 nominations.      R  155 min   \n3    Nominated for 1 Golden Globe. Another 5 wins &...  PG-13  127 min   \n4    Nominated for 2 Oscars. Another 4 wins & 25 no...  PG-13  130 min   \n..                                                 ...    ...      ...   \n856                                            4 wins.      R  115 min   \n857                                     2 nominations.  PG-13  103 min   \n858                                      1 nomination.     PG   87 min   \n859                                      1 nomination.      R  101 min   \n860  Nominated for 5 Oscars. Another 23 wins & 74 n...      R  122 min   \n\n                                     genere metascore imdbRating  imdbVotes  \\\n0                   Comedy, Family, Fantasy        46        6.1    193,860   \n1                 Adventure, Drama, Romance        73        7.8    491,190   \n2                  Action, Adventure, Drama        67        8.5  1,265,367   \n3                  Comedy, Fantasy, Romance        47        6.4    184,860   \n4        Action, Adventure, Drama, Thriller        59        6.4    149,878   \n..                                      ...       ...        ...        ...   \n856  Action, Crime, Drama, Romance, Western        64        6.7     56,692   \n857        Action, Crime, Fantasy, Thriller        30        4.8     58,456   \n858      Animation, Comedy, Family, Fantasy        40        6.0     21,758   \n859                         Comedy, Romance        34        5.9     41,515   \n860               Biography, Drama, History        80        7.7     98,657   \n\n        imdbID  \n0    tt0170016  \n1    tt0162222  \n2    tt0172495  \n3    tt0207201  \n4    tt0177971  \n..         ...  \n856  tt0800308  \n857  tt0831887  \n858  tt0465502  \n859  tt1046163  \n860  tt0870111  \n\n[861 rows x 10 columns]"
     },
     "execution_count": 58,
     "metadata": {},
     "output_type": "execute_result"
    }
   ],
   "source": [
    "omdb_df =pd.DataFrame({'title':titles_edit,\n",
    "                        'ratings':ratings,\n",
    "                        'awards':awards,\n",
    "                        'rated':rated,\n",
    "                        'runtime':runtime,\n",
    "                        'genere':genre,\n",
    "                        'metascore':metascore,\n",
    "                        'imdbRating':imdbRating,\n",
    "                        'imdbVotes':imdbVotes,\n",
    "                        'imdbID':imdbID})\n",
    "omdb_df"
   ]
  },
  {
   "cell_type": "code",
   "execution_count": 59,
   "metadata": {},
   "outputs": [],
   "source": [
    "omdb_df.to_csv('./data_files/first900.csv')"
   ]
  },
  {
   "cell_type": "code",
   "execution_count": null,
   "metadata": {},
   "outputs": [],
   "source": []
  }
 ],
 "metadata": {
  "kernelspec": {
   "display_name": "Python 3",
   "language": "python",
   "name": "python3"
  },
  "language_info": {
   "codemirror_mode": {
    "name": "ipython",
    "version": 3
   },
   "file_extension": ".py",
   "mimetype": "text/x-python",
   "name": "python",
   "nbconvert_exporter": "python",
   "pygments_lexer": "ipython3",
   "version": "3.7.4-final"
  },
  "varInspector": {
   "cols": {
    "lenName": 16,
    "lenType": 16,
    "lenVar": 40
   },
   "kernels_config": {
    "python": {
     "delete_cmd_postfix": "",
     "delete_cmd_prefix": "del ",
     "library": "var_list.py",
     "varRefreshCmd": "print(var_dic_list())"
    },
    "r": {
     "delete_cmd_postfix": ") ",
     "delete_cmd_prefix": "rm(",
     "library": "var_list.r",
     "varRefreshCmd": "cat(var_dic_list()) "
    }
   },
   "types_to_exclude": [
    "module",
    "function",
    "builtin_function_or_method",
    "instance",
    "_Feature"
   ],
   "window_display": false
  }
 },
 "nbformat": 4,
 "nbformat_minor": 2
}